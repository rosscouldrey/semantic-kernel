{
 "cells": [
  {
   "attachments": {},
   "cell_type": "markdown",
   "id": "fde98ddf",
   "metadata": {},
   "source": [
    "# Creating a basic chat experience with context variables\n",
    "\n",
    "In this example, we show how you can build a simple chat bot by sending and updating context with your requests. \n",
    "\n",
    "We introduce the Context Variables object which in this demo functions similarly as a key-value store that you can use when running the kernel.\n",
    "\n",
    "The context is local (i.e. in your computer's RAM) and not persisted anywhere beyond the life of this Jupyter session.\n",
    "\n",
    "In future examples, we will show how to persist the context on disk so that you can bring it into your applications.  \n",
    "\n",
    "In this chat scenario, as the user talks back and forth with the bot, the context gets populated with the history of the conversation. During each new run of the kernel, the context can provide the AI with its variables' content. "
   ]
  },
  {
   "cell_type": "code",
   "execution_count": null,
   "id": "92f69b34",
   "metadata": {},
   "outputs": [],
   "source": [
    "!python -m pip install semantic-kernel==0.3.10.dev0"
   ]
  },
  {
   "cell_type": "code",
   "execution_count": 1,
   "id": "68301108",
   "metadata": {},
   "outputs": [],
   "source": [
    "import semantic_kernel as sk\n",
    "from semantic_kernel.connectors.ai.open_ai import AzureChatCompletion, OpenAIChatCompletion\n",
    "\n",
    "kernel = sk.Kernel()\n",
    "\n",
    "useAzureOpenAI = True\n",
    "\n",
    "# Configure AI service used by the kernel\n",
    "if useAzureOpenAI:\n",
    "    deployment, api_key, endpoint = sk.azure_openai_settings_from_dot_env()\n",
    "    kernel.add_chat_service(\"chat_completion\", AzureChatCompletion(deployment, endpoint, api_key))\n",
    "else:\n",
    "    api_key, org_id = sk.openai_settings_from_dot_env()\n",
    "    kernel.add_chat_service(\"chat-gpt\", OpenAIChatCompletion(\"gpt-3.5-turbo\", api_key, org_id))\n"
   ]
  },
  {
   "attachments": {},
   "cell_type": "markdown",
   "id": "7971783d",
   "metadata": {},
   "source": [
    "Let's define a prompt outlining a dialogue chat bot."
   ]
  },
  {
   "cell_type": "code",
   "execution_count": 3,
   "id": "e84a05fc",
   "metadata": {},
   "outputs": [],
   "source": [
    "sk_prompt = \"\"\"\n",
    "ChatBot can have a conversation with you about any topic.\n",
    "It can give explicit instructions or say 'I don't know' if it does not have an answer.\n",
    "\n",
    "{{$history}}\n",
    "User: {{$user_input}}\n",
    "ChatBot: \"\"\""
   ]
  },
  {
   "attachments": {},
   "cell_type": "markdown",
   "id": "61716b16",
   "metadata": {},
   "source": [
    "Register your semantic function"
   ]
  },
  {
   "cell_type": "code",
   "execution_count": 4,
   "id": "a3e4b160",
   "metadata": {},
   "outputs": [],
   "source": [
    "chat_function = kernel.create_semantic_function(sk_prompt, \"ChatBot\", max_tokens=2000, temperature=0.7, top_p=0.5)"
   ]
  },
  {
   "attachments": {},
   "cell_type": "markdown",
   "id": "6e8a676f",
   "metadata": {},
   "source": [
    "Initialize your context"
   ]
  },
  {
   "cell_type": "code",
   "execution_count": 5,
   "id": "a4be7394",
   "metadata": {},
   "outputs": [],
   "source": [
    "context = kernel.create_new_context()\n",
    "context[\"history\"] = \"\""
   ]
  },
  {
   "attachments": {},
   "cell_type": "markdown",
   "id": "4ce7c497",
   "metadata": {},
   "source": [
    "Chat with the Bot"
   ]
  },
  {
   "cell_type": "code",
   "execution_count": 6,
   "id": "5ec41eb8",
   "metadata": {},
   "outputs": [
    {
     "name": "stdout",
     "output_type": "stream",
     "text": [
      "Sure, I'd be happy to help. What genre are you interested in?\n"
     ]
    }
   ],
   "source": [
    "context[\"user_input\"] = \"Hi, I'm looking for book suggestions\"\n",
    "bot_answer = await chat_function.invoke_async(context=context)\n",
    "print(bot_answer)"
   ]
  },
  {
   "attachments": {},
   "cell_type": "markdown",
   "id": "a5b03748",
   "metadata": {},
   "source": [
    "Update the history with the output"
   ]
  },
  {
   "cell_type": "code",
   "execution_count": 7,
   "id": "f50f517d",
   "metadata": {},
   "outputs": [
    {
     "name": "stdout",
     "output_type": "stream",
     "text": [
      "\n",
      "User: Hi, I'm looking for book suggestions\n",
      "ChatBot: Sure, I'd be happy to help. What genre are you interested in?\n",
      "\n"
     ]
    }
   ],
   "source": [
    "context[\"history\"] += f\"\\nUser: {context['user_input']}\\nChatBot: {bot_answer}\\n\"\n",
    "print(context[\"history\"])"
   ]
  },
  {
   "attachments": {},
   "cell_type": "markdown",
   "id": "23a2eb02",
   "metadata": {},
   "source": [
    "Keep Chatting!"
   ]
  },
  {
   "cell_type": "code",
   "execution_count": 8,
   "id": "c59efe45",
   "metadata": {},
   "outputs": [],
   "source": [
    "async def chat(input_text: str) -> None:\n",
    "    # Save new message in the context variables\n",
    "    print(f\"User: {input_text}\")\n",
    "    context[\"user_input\"] = input_text\n",
    "\n",
    "    # Process the user message and get an answer\n",
    "    answer = await chat_function.invoke_async(context=context)\n",
    "\n",
    "    # Show the response\n",
    "    print(f\"ChatBot: {answer}\")\n",
    "\n",
    "    # Append the new interaction to the chat history\n",
    "    context[\"history\"] += f\"\\nUser: {input_text}\\nChatBot: {answer}\\n\""
   ]
  },
  {
   "cell_type": "code",
   "execution_count": 9,
   "id": "06ee244e",
   "metadata": {},
   "outputs": [
    {
     "name": "stdout",
     "output_type": "stream",
     "text": [
      "User: I love history and philosophy, I'd like to learn something new about Greece, any suggestion?\n",
      "ChatBot: Absolutely, considering your interest in history, philosophy, and Greece, I would recommend \"The Histories\" by Herodotus, \"The Iliad\" and \"The Odyssey\" by Homer for ancient Greek history. For philosophy, you might enjoy \"The Republic\" by Plato and \"Nicomachean Ethics\" by Aristotle. If you're interested in a more general overview, \"Sailing the Wine-Dark Sea: Why the Greeks Matter\" by Thomas Cahill is a great read.\n"
     ]
    }
   ],
   "source": [
    "await chat(\"I love history and philosophy, I'd like to learn something new about Greece, any suggestion?\")"
   ]
  },
  {
   "cell_type": "code",
   "execution_count": 10,
   "id": "82be4e7e",
   "metadata": {},
   "outputs": [
    {
     "name": "stdout",
     "output_type": "stream",
     "text": [
      "User: that sounds interesting, what is it about?\n",
      "ChatBot: \"Sailing the Wine-Dark Sea: Why the Greeks Matter\" by Thomas Cahill is a book that explores the legacy of the ancient Greeks and their influence on modern society. It covers a wide range of topics, from the Greek's contributions to literature, philosophy, and politics, to their thoughts on love and war. It's a great read if you're interested in understanding why Greek civilization has had such a lasting impact.\n"
     ]
    }
   ],
   "source": [
    "await chat(\"that sounds interesting, what is it about?\")"
   ]
  },
  {
   "cell_type": "code",
   "execution_count": 11,
   "id": "82fe0139",
   "metadata": {},
   "outputs": [
    {
     "name": "stdout",
     "output_type": "stream",
     "text": [
      "User: if I read that book, what exactly will I learn about Greek history?\n",
      "ChatBot: In \"Sailing the Wine-Dark Sea: Why the Greeks Matter\", you will learn about the profound influence of ancient Greece on modern Western civilization. The book covers various aspects of Greek culture, including their philosophy, politics, art, and literature. You'll gain insights into Greek thought and ideas, their mythology, the Homeric heroes, the Athenian democracy, and the philosophical teachings of Socrates, Plato, and Aristotle. You'll also learn about the Greek's views on warfare and love. Overall, it provides a comprehensive overview of why Greek history and culture are still relevant and influential today.\n"
     ]
    }
   ],
   "source": [
    "await chat(\"if I read that book, what exactly will I learn about Greek history?\")"
   ]
  },
  {
   "cell_type": "code",
   "execution_count": 12,
   "metadata": {},
   "outputs": [
    {
     "name": "stdout",
     "output_type": "stream",
     "text": [
      "\n",
      "User: Hi, I'm looking for book suggestions\n",
      "ChatBot: Sure, I'd be happy to help. What genre are you interested in?\n",
      "\n",
      "User: I love history and philosophy, I'd like to learn something new about Greece, any suggestion?\n",
      "ChatBot: Absolutely, considering your interest in history, philosophy, and Greece, I would recommend \"The Histories\" by Herodotus, \"The Iliad\" and \"The Odyssey\" by Homer for ancient Greek history. For philosophy, you might enjoy \"The Republic\" by Plato and \"Nicomachean Ethics\" by Aristotle. If you're interested in a more general overview, \"Sailing the Wine-Dark Sea: Why the Greeks Matter\" by Thomas Cahill is a great read.\n",
      "\n",
      "User: that sounds interesting, what is it about?\n",
      "ChatBot: \"Sailing the Wine-Dark Sea: Why the Greeks Matter\" by Thomas Cahill is a book that explores the legacy of the ancient Greeks and their influence on modern society. It covers a wide range of topics, from the Greek's contributions to literature, philosophy, and politics, to their thoughts on love and war. It's a great read if you're interested in understanding why Greek civilization has had such a lasting impact.\n",
      "\n",
      "User: if I read that book, what exactly will I learn about Greek history?\n",
      "ChatBot: In \"Sailing the Wine-Dark Sea: Why the Greeks Matter\", you will learn about the profound influence of ancient Greece on modern Western civilization. The book covers various aspects of Greek culture, including their philosophy, politics, art, and literature. You'll gain insights into Greek thought and ideas, their mythology, the Homeric heroes, the Athenian democracy, and the philosophical teachings of Socrates, Plato, and Aristotle. You'll also learn about the Greek's views on warfare and love. Overall, it provides a comprehensive overview of why Greek history and culture are still relevant and influential today.\n",
      "\n"
     ]
    }
   ],
   "source": [
    "print(context[\"history\"])"
   ]
  },
  {
   "cell_type": "code",
   "execution_count": 13,
   "id": "55b3a9f2",
   "metadata": {},
   "outputs": [
    {
     "name": "stdout",
     "output_type": "stream",
     "text": [
      "User: could you list some more books I could read about this topic?\n",
      "ChatBot: Of course, here are some more books about Greek history and philosophy:\n",
      "\n",
      "1. \"The Peloponnesian War\" by Donald Kagan: This book provides a detailed account of the war between Athens and Sparta.\n",
      "2. \"The Oresteia\" by Aeschylus: This is a trilogy of Greek tragedies that is a must-read for anyone interested in Greek literature and mythology.\n",
      "3. \"The Complete Works\" by Euripides: Euripides was one of the great playwrights in ancient Greece, and this collection includes all of his surviving plays.\n",
      "4. \"The Greek Way\" by Edith Hamilton: This book provides an introduction to Greek culture and thought.\n",
      "5. \"The Birth of Tragedy\" by Friedrich Nietzsche: This is a philosophical work that discusses the nature of Greek tragedy.\n",
      "6. \"The Greeks and the Irrational\" by E.R. Dodds: This book explores the spiritual and psychological aspects of Greek culture.\n",
      "7. \"Greek Science After Aristotle\" by G.E.R. Lloyd: This book covers the development of science in the Hellenistic period after Aristotle's death.\n",
      "8. \"The Last Days of Socrates\" by Plato: This book is a record of the final days and thoughts of the philosopher Socrates.\n",
      "9. \"Theogony and Works and Days\" by Hesiod: This is a foundational work of Greek mythology.\n",
      "10. \"The History of the Peloponnesian War\" by Thucydides: This is a historical account of the Peloponnesian War, written by an Athenian general.\n"
     ]
    }
   ],
   "source": [
    "await chat(\"could you list some more books I could read about this topic?\")"
   ]
  },
  {
   "attachments": {},
   "cell_type": "markdown",
   "id": "c30bac97",
   "metadata": {},
   "source": [
    "After chatting for a while, we have built a growing history, which we are attaching to each prompt and which contains the full conversation. Let's take a look!"
   ]
  },
  {
   "cell_type": "code",
   "execution_count": 14,
   "id": "5e34ae55",
   "metadata": {},
   "outputs": [
    {
     "name": "stdout",
     "output_type": "stream",
     "text": [
      "\n",
      "User: Hi, I'm looking for book suggestions\n",
      "ChatBot: Sure, I'd be happy to help. What genre are you interested in?\n",
      "\n",
      "User: I love history and philosophy, I'd like to learn something new about Greece, any suggestion?\n",
      "ChatBot: Absolutely, considering your interest in history, philosophy, and Greece, I would recommend \"The Histories\" by Herodotus, \"The Iliad\" and \"The Odyssey\" by Homer for ancient Greek history. For philosophy, you might enjoy \"The Republic\" by Plato and \"Nicomachean Ethics\" by Aristotle. If you're interested in a more general overview, \"Sailing the Wine-Dark Sea: Why the Greeks Matter\" by Thomas Cahill is a great read.\n",
      "\n",
      "User: that sounds interesting, what is it about?\n",
      "ChatBot: \"Sailing the Wine-Dark Sea: Why the Greeks Matter\" by Thomas Cahill is a book that explores the legacy of the ancient Greeks and their influence on modern society. It covers a wide range of topics, from the Greek's contributions to literature, philosophy, and politics, to their thoughts on love and war. It's a great read if you're interested in understanding why Greek civilization has had such a lasting impact.\n",
      "\n",
      "User: if I read that book, what exactly will I learn about Greek history?\n",
      "ChatBot: In \"Sailing the Wine-Dark Sea: Why the Greeks Matter\", you will learn about the profound influence of ancient Greece on modern Western civilization. The book covers various aspects of Greek culture, including their philosophy, politics, art, and literature. You'll gain insights into Greek thought and ideas, their mythology, the Homeric heroes, the Athenian democracy, and the philosophical teachings of Socrates, Plato, and Aristotle. You'll also learn about the Greek's views on warfare and love. Overall, it provides a comprehensive overview of why Greek history and culture are still relevant and influential today.\n",
      "\n",
      "User: could you list some more books I could read about this topic?\n",
      "ChatBot: Of course, here are some more books about Greek history and philosophy:\n",
      "\n",
      "1. \"The Peloponnesian War\" by Donald Kagan: This book provides a detailed account of the war between Athens and Sparta.\n",
      "2. \"The Oresteia\" by Aeschylus: This is a trilogy of Greek tragedies that is a must-read for anyone interested in Greek literature and mythology.\n",
      "3. \"The Complete Works\" by Euripides: Euripides was one of the great playwrights in ancient Greece, and this collection includes all of his surviving plays.\n",
      "4. \"The Greek Way\" by Edith Hamilton: This book provides an introduction to Greek culture and thought.\n",
      "5. \"The Birth of Tragedy\" by Friedrich Nietzsche: This is a philosophical work that discusses the nature of Greek tragedy.\n",
      "6. \"The Greeks and the Irrational\" by E.R. Dodds: This book explores the spiritual and psychological aspects of Greek culture.\n",
      "7. \"Greek Science After Aristotle\" by G.E.R. Lloyd: This book covers the development of science in the Hellenistic period after Aristotle's death.\n",
      "8. \"The Last Days of Socrates\" by Plato: This book is a record of the final days and thoughts of the philosopher Socrates.\n",
      "9. \"Theogony and Works and Days\" by Hesiod: This is a foundational work of Greek mythology.\n",
      "10. \"The History of the Peloponnesian War\" by Thucydides: This is a historical account of the Peloponnesian War, written by an Athenian general.\n",
      "\n"
     ]
    }
   ],
   "source": [
    "print(context[\"history\"])"
   ]
  }
 ],
 "metadata": {
  "kernelspec": {
   "display_name": "Python 3 (ipykernel)",
   "language": "python",
   "name": "python3"
  },
  "language_info": {
   "codemirror_mode": {
    "name": "ipython",
    "version": 3
   },
   "file_extension": ".py",
   "mimetype": "text/x-python",
   "name": "python",
   "nbconvert_exporter": "python",
   "pygments_lexer": "ipython3",
   "version": "3.10.11"
  }
 },
 "nbformat": 4,
 "nbformat_minor": 5
}
